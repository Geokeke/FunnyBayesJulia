{
 "cells": [
  {
   "cell_type": "markdown",
   "metadata": {},
   "source": [
    "1. What piece of information would we need in order to use Bayes’ theorem to determine the probability that someone in 2010 who had GBS also had the flu vaccine that year?"
   ]
  },
  {
   "cell_type": "markdown",
   "metadata": {},
   "source": [
    "$$\n",
    "P(vaccine | GBS) = \\frac{P(vaccine) * P(GBS|vaccine)}{P(GBS)}\n",
    "$$"
   ]
  },
  {
   "cell_type": "markdown",
   "metadata": {},
   "source": [
    "2.  What is the probability that a random person picked from the population is female and is not color blind?"
   ]
  },
  {
   "cell_type": "markdown",
   "metadata": {},
   "source": [
    "$$\n",
    "P(female, not color blind) = P(female) * P(not color blind|female) = 0.5 * 0.995\n",
    "$$"
   ]
  },
  {
   "cell_type": "code",
   "execution_count": 2,
   "metadata": {},
   "outputs": [
    {
     "data": {
      "text/plain": [
       "0.4975"
      ]
     },
     "metadata": {},
     "output_type": "display_data"
    }
   ],
   "source": [
    "0.5 * 0.995"
   ]
  },
  {
   "cell_type": "markdown",
   "metadata": {},
   "source": [
    "# Not agree with solution\n",
    "3. What is the probability that a male who received the flu vaccine in 2010 is either color blind or has GBS?"
   ]
  },
  {
   "cell_type": "markdown",
   "metadata": {},
   "source": [
    "Question is:  \n",
    "\n",
    "$$\n",
    "P(color blind, GBS|male, vaccine)\n",
    "$$\n",
    "\n",
    "Let\n",
    "\n",
    "$$\n",
    "P(A) = P(colorblind|male), P(B) = P(GBS|vaccine)\n",
    "$$\n",
    "\n",
    "We have\n",
    "\n",
    "$$\n",
    "P(A or B) = P(A) + P(B) - P(A)*P(B|A)\n",
    "$$ \n",
    ",\n",
    "\n",
    "$$\n",
    "P(A) = P(colorblind|male) = 0.08\n",
    "$$\n",
    ",\n",
    "\n",
    "$$\n",
    "P(B) = P(GBS|vaccine) =  3 / 100000\n",
    "$$\n",
    ",\n",
    "\n",
    "$$\n",
    "P(A)*P(B|A) = 0.08 * 3 / 100000\n",
    "$$\n",
    ",\n",
    "\n",
    "So\n",
    "$$\n",
    "P(A or B) = 0.08 + 3 / 100000 - 0.08 * 3 / 100000\n",
    "$$"
   ]
  },
  {
   "cell_type": "code",
   "execution_count": 1,
   "metadata": {},
   "outputs": [
    {
     "data": {
      "text/plain": [
       "0.0800276"
      ]
     },
     "metadata": {},
     "output_type": "display_data"
    }
   ],
   "source": [
    "0.08 + 3 / 100000 - 0.08 * 3 / 100000"
   ]
  }
 ],
 "metadata": {
  "kernelspec": {
   "display_name": "Julia 1.9.2",
   "language": "julia",
   "name": "julia-1.9"
  },
  "language_info": {
   "file_extension": ".jl",
   "mimetype": "application/julia",
   "name": "julia",
   "version": "1.9.2"
  },
  "orig_nbformat": 4
 },
 "nbformat": 4,
 "nbformat_minor": 2
}
