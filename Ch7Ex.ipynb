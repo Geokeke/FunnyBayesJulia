{
 "cells": [
  {
   "cell_type": "markdown",
   "metadata": {},
   "source": [
    "1. Kansas City, despite its name, sits on the border of two US states: Missouri and Kansas. The Kansas City metropolitan area consists of 15 counties, 9 in Missouri and 6 in Kansas. The entire state of Kansas has 105 counties and Missouri has 114. Use Bayes’ theorem to calculate the probability that a relative who just moved to a county in the Kansas City metropolitan area also lives in a county in Kansas. Make sure to show P(Kansas) (assuming your relative either lives in Kansas or Missouri), P(Kansas City metropolitan area), and P(Kansas City metropolitan area | Kansas).\n",
    "\n",
    "The question is asking $P(Kansas|City)$, regarding we have\n",
    "\n",
    "$$\n",
    "P(Kansas|City) = \\frac{P(Kansas)*P(City|Kansas)}{P(City)}\n",
    "$$\n",
    "\n",
    ", and \n",
    "\n",
    "$$\n",
    "P(Kansas) = 105 / (114 + 105)\n",
    "$$\n",
    ",\n",
    "\n",
    "$$\n",
    "P(City|Kansas) = 6 / 105\n",
    "$$\n",
    ",\n",
    "\n",
    "$$\n",
    "P(City) = (6+9) / (105+114)\n",
    "$$\n",
    ",\n",
    "\n",
    "So\n",
    "$$\n",
    "P(Kansas|City) = (105 / (114 + 105)) *( 6 / 105) / ((6+9) / (105+114))"
   ]
  },
  {
   "cell_type": "code",
   "execution_count": 3,
   "metadata": {},
   "outputs": [
    {
     "data": {
      "text/plain": [
       "0.4"
      ]
     },
     "metadata": {},
     "output_type": "display_data"
    }
   ],
   "source": [
    "(105 / (114 + 105)) *( 6 / 105) / ((6+9) / (105+114))"
   ]
  },
  {
   "cell_type": "markdown",
   "metadata": {},
   "source": [
    "2. A deck of cards has 52 cards with suits that are either red or black. There are four aces in a deck of cards: two red and two black. You remove a red ace from the deck and shuffle the cards. Your friend pulls a black card. What is the probability that it is an ace?\n",
    "\n",
    "The question is asking\n",
    "$$\n",
    "P(ace|black) = \\frac{P(ace)*P(black|ace)}{P(black)}\n",
    "$$\n",
    "\n",
    "= (3/52) * (2/3) / (26/52)"
   ]
  },
  {
   "cell_type": "code",
   "execution_count": 4,
   "metadata": {},
   "outputs": [
    {
     "data": {
      "text/plain": [
       "0.07692307692307693"
      ]
     },
     "metadata": {},
     "output_type": "display_data"
    }
   ],
   "source": [
    "(3/52) * (2/3) / (26/52)"
   ]
  }
 ],
 "metadata": {
  "kernelspec": {
   "display_name": "Julia 1.9.2",
   "language": "julia",
   "name": "julia-1.9"
  },
  "language_info": {
   "file_extension": ".jl",
   "mimetype": "application/julia",
   "name": "julia",
   "version": "1.9.2"
  },
  "orig_nbformat": 4
 },
 "nbformat": 4,
 "nbformat_minor": 2
}
