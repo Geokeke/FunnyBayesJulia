{
 "cells": [
  {
   "cell_type": "markdown",
   "metadata": {},
   "source": [
    "1. As mentioned, you might disagree with the original probability assigned to the likelihood:\n",
    "\n",
    "$$\n",
    "P(broken window, open front door, missing laptop| robbed) = \\frac{3}{10}\n",
    "$$"
   ]
  },
  {
   "cell_type": "markdown",
   "metadata": {},
   "source": [
    "$$\n",
    "P(H1|D) \\propto P(H1) * P(D|H1) = 1/1000 * 3/100\n",
    "$$\n",
    "$$\n",
    "P(H2|D) \\propto P(H2) * P(D|H2) = 1/2000 * 1/30 * 1/365 * 1\n",
    "$$\n",
    "$$\n",
    "P(H1) / P(H2) = \n",
    "$$"
   ]
  },
  {
   "cell_type": "code",
   "execution_count": 1,
   "metadata": {},
   "outputs": [
    {
     "data": {
      "text/plain": [
       "6570.000000000001"
      ]
     },
     "metadata": {},
     "output_type": "display_data"
    }
   ],
   "source": [
    "(1/1000 * 3/100) / (1/2000 * 1/30 * 1/365 * 1)"
   ]
  },
  {
   "cell_type": "markdown",
   "metadata": {},
   "source": [
    "2. How unlikely would you have to believe being robbed is—our prior for H1—in order for the ratio of H1 to H2 to be even?\n",
    "\n",
    "P(H1) = P(H2|D) / P(D|H1) = (1/2000 * 1/30 * 1/365 * 1) / (3/10)"
   ]
  },
  {
   "cell_type": "code",
   "execution_count": 4,
   "metadata": {},
   "outputs": [
    {
     "data": {
      "text/plain": [
       "1.5220700152207001e-6"
      ]
     },
     "metadata": {},
     "output_type": "display_data"
    }
   ],
   "source": [
    "(1/2000 * 1/30 * 1/365 * 1) / (3/100)\n",
    "# 1/657000"
   ]
  }
 ],
 "metadata": {
  "kernelspec": {
   "display_name": "Julia 1.9.2",
   "language": "julia",
   "name": "julia-1.9"
  },
  "language_info": {
   "file_extension": ".jl",
   "mimetype": "application/julia",
   "name": "julia",
   "version": "1.9.2"
  },
  "orig_nbformat": 4
 },
 "nbformat": 4,
 "nbformat_minor": 2
}
